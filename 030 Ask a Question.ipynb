{
 "cells": [
  {
   "cell_type": "code",
   "execution_count": 1,
   "id": "fb3c13cd",
   "metadata": {},
   "outputs": [],
   "source": [
    "import json\n",
    "with open('./credentials.json', 'r') as creds:\n",
    "  credentials = json.load(creds)"
   ]
  },
  {
   "cell_type": "code",
   "execution_count": 2,
   "id": "62db809e",
   "metadata": {},
   "outputs": [],
   "source": [
    "import os\n",
    "SAP_HANA_CLOUD_ADDRESS  = credentials[\"SAP_HANA_CLOUD\"][\"HANA_ADDRESS\"]\n",
    "SAP_HANA_CLOUD_PORT     = credentials[\"SAP_HANA_CLOUD\"][\"HANA_PORT\"]\n",
    "SAP_HANA_CLOUD_USER     = credentials[\"SAP_HANA_CLOUD\"][\"HANA_USER\"]\n",
    "SAP_HANA_CLOUD_PASSWORD = credentials[\"SAP_HANA_CLOUD\"][\"HANA_PASSWORD\"]"
   ]
  },
  {
   "cell_type": "code",
   "execution_count": 3,
   "id": "4a361a01",
   "metadata": {},
   "outputs": [],
   "source": [
    "import os\n",
    "os.environ[\"AICORE_CLIENT_ID\"]      = credentials[\"SAP_AI_CORE\"][\"AICORE_CLIENT_ID\"]\n",
    "os.environ[\"AICORE_CLIENT_SECRET\"]  = credentials[\"SAP_AI_CORE\"][\"AICORE_CLIENT_SECRET\"]\n",
    "os.environ[\"AICORE_AUTH_URL\"]       = credentials[\"SAP_AI_CORE\"][\"AICORE_AUTH_URL\"]\n",
    "os.environ[\"AICORE_RESOURCE_GROUP\"] = credentials[\"SAP_AI_CORE\"][\"AICORE_RESOURCE_GROUP\"]\n",
    "os.environ[\"AICORE_BASE_URL\"]       = credentials[\"SAP_AI_CORE\"][\"AICORE_BASE_URL\"]   "
   ]
  },
  {
   "cell_type": "code",
   "execution_count": 4,
   "id": "85604395",
   "metadata": {},
   "outputs": [
    {
     "data": {
      "text/plain": [
       "True"
      ]
     },
     "execution_count": 4,
     "metadata": {},
     "output_type": "execute_result"
    }
   ],
   "source": [
    "import hana_ml.dataframe as dataframe\n",
    "conn = dataframe.ConnectionContext(\n",
    "                                   address  = SAP_HANA_CLOUD_ADDRESS,\n",
    "                                   port     = SAP_HANA_CLOUD_PORT,\n",
    "                                   user     = SAP_HANA_CLOUD_USER,\n",
    "                                   password = SAP_HANA_CLOUD_PASSWORD, \n",
    "                                  )\n",
    "conn.connection.isconnected()"
   ]
  },
  {
   "cell_type": "code",
   "execution_count": 5,
   "id": "1e717682",
   "metadata": {},
   "outputs": [],
   "source": [
    "from gen_ai_hub.proxy.langchain.openai import OpenAIEmbeddings\n",
    "embedding = OpenAIEmbeddings(proxy_model_name='text-embedding-ada-002')"
   ]
  },
  {
   "cell_type": "code",
   "execution_count": 6,
   "id": "4b3a191c",
   "metadata": {},
   "outputs": [
    {
     "data": {
      "text/plain": [
       "[0.017259458564609486,\n",
       " -0.01752117511658708,\n",
       " 0.022659065838184198,\n",
       " -0.004883063162897407,\n",
       " -0.018444067385173547,\n",
       " -0.006157205147347661,\n",
       " -0.01662583137053135,\n",
       " -0.03633715314386116,\n",
       " 0.01640543946499506,\n",
       " 1.1931629495305218e-05]"
      ]
     },
     "execution_count": 6,
     "metadata": {},
     "output_type": "execute_result"
    }
   ],
   "source": [
    "user_question = 'What is the meaning of the letters SAP?'\n",
    "user_question_embedding = embedding.embed_documents((user_question)) \n",
    "user_question_embedding[0][:10]"
   ]
  },
  {
   "cell_type": "code",
   "execution_count": 7,
   "id": "295f563b",
   "metadata": {},
   "outputs": [
    {
     "data": {
      "text/html": [
       "<div>\n",
       "<style scoped>\n",
       "    .dataframe tbody tr th:only-of-type {\n",
       "        vertical-align: middle;\n",
       "    }\n",
       "\n",
       "    .dataframe tbody tr th {\n",
       "        vertical-align: top;\n",
       "    }\n",
       "\n",
       "    .dataframe thead th {\n",
       "        text-align: right;\n",
       "    }\n",
       "</style>\n",
       "<table border=\"1\" class=\"dataframe\">\n",
       "  <thead>\n",
       "    <tr style=\"text-align: right;\">\n",
       "      <th></th>\n",
       "      <th>AID</th>\n",
       "      <th>QID</th>\n",
       "      <th>QUESTION</th>\n",
       "      <th>SIMILARITY</th>\n",
       "    </tr>\n",
       "  </thead>\n",
       "  <tbody>\n",
       "    <tr>\n",
       "      <th>0</th>\n",
       "      <td>1000</td>\n",
       "      <td>1</td>\n",
       "      <td>When was SAP founded?</td>\n",
       "      <td>1.000000</td>\n",
       "    </tr>\n",
       "    <tr>\n",
       "      <th>1</th>\n",
       "      <td>1001</td>\n",
       "      <td>1</td>\n",
       "      <td>What does the acronym \"SAP\" stand for?</td>\n",
       "      <td>1.000000</td>\n",
       "    </tr>\n",
       "    <tr>\n",
       "      <th>2</th>\n",
       "      <td>1002</td>\n",
       "      <td>1</td>\n",
       "      <td>What is SAP’s vision and mission?</td>\n",
       "      <td>1.000000</td>\n",
       "    </tr>\n",
       "    <tr>\n",
       "      <th>3</th>\n",
       "      <td>1003</td>\n",
       "      <td>1</td>\n",
       "      <td>What is the business outlook for the current f...</td>\n",
       "      <td>1.000000</td>\n",
       "    </tr>\n",
       "    <tr>\n",
       "      <th>4</th>\n",
       "      <td>1005</td>\n",
       "      <td>1</td>\n",
       "      <td>Where can I find information about the SAP Exe...</td>\n",
       "      <td>1.000000</td>\n",
       "    </tr>\n",
       "    <tr>\n",
       "      <th>5</th>\n",
       "      <td>1006</td>\n",
       "      <td>1</td>\n",
       "      <td>Why was SAP AG converted into an SE?</td>\n",
       "      <td>1.000000</td>\n",
       "    </tr>\n",
       "    <tr>\n",
       "      <th>6</th>\n",
       "      <td>1007</td>\n",
       "      <td>1</td>\n",
       "      <td>What is SAP's current headcount?</td>\n",
       "      <td>1.000000</td>\n",
       "    </tr>\n",
       "    <tr>\n",
       "      <th>7</th>\n",
       "      <td>1010</td>\n",
       "      <td>1</td>\n",
       "      <td>Why is SAP focusing on sustainability?</td>\n",
       "      <td>1.000000</td>\n",
       "    </tr>\n",
       "    <tr>\n",
       "      <th>8</th>\n",
       "      <td>1011</td>\n",
       "      <td>1</td>\n",
       "      <td>What is SAP Cloud for Sustainable Enterprises?</td>\n",
       "      <td>1.000000</td>\n",
       "    </tr>\n",
       "    <tr>\n",
       "      <th>9</th>\n",
       "      <td>1013</td>\n",
       "      <td>1</td>\n",
       "      <td>What is the impact of SAP Sustainability solut...</td>\n",
       "      <td>1.000000</td>\n",
       "    </tr>\n",
       "    <tr>\n",
       "      <th>10</th>\n",
       "      <td>1016</td>\n",
       "      <td>1</td>\n",
       "      <td>What's it like to work at SAP?</td>\n",
       "      <td>1.000000</td>\n",
       "    </tr>\n",
       "    <tr>\n",
       "      <th>11</th>\n",
       "      <td>1017</td>\n",
       "      <td>1</td>\n",
       "      <td>What employee benefits does SAP offer?</td>\n",
       "      <td>1.000000</td>\n",
       "    </tr>\n",
       "    <tr>\n",
       "      <th>12</th>\n",
       "      <td>1018</td>\n",
       "      <td>1</td>\n",
       "      <td>What career development opportunities does SAP...</td>\n",
       "      <td>1.000000</td>\n",
       "    </tr>\n",
       "    <tr>\n",
       "      <th>13</th>\n",
       "      <td>1019</td>\n",
       "      <td>1</td>\n",
       "      <td>What can I expect in terms of career progressi...</td>\n",
       "      <td>1.000000</td>\n",
       "    </tr>\n",
       "    <tr>\n",
       "      <th>14</th>\n",
       "      <td>1022</td>\n",
       "      <td>1</td>\n",
       "      <td>Where can I receive SAP training to prepare fo...</td>\n",
       "      <td>1.000000</td>\n",
       "    </tr>\n",
       "    <tr>\n",
       "      <th>15</th>\n",
       "      <td>1012</td>\n",
       "      <td>1</td>\n",
       "      <td>How do SAP Sustainability solutions help creat...</td>\n",
       "      <td>0.865482</td>\n",
       "    </tr>\n",
       "    <tr>\n",
       "      <th>16</th>\n",
       "      <td>1015</td>\n",
       "      <td>1</td>\n",
       "      <td>How much can SAP Sustainability solutions redu...</td>\n",
       "      <td>0.865482</td>\n",
       "    </tr>\n",
       "    <tr>\n",
       "      <th>17</th>\n",
       "      <td>1021</td>\n",
       "      <td>1</td>\n",
       "      <td>How does SAP approach work-life balance?</td>\n",
       "      <td>0.865482</td>\n",
       "    </tr>\n",
       "    <tr>\n",
       "      <th>18</th>\n",
       "      <td>1023</td>\n",
       "      <td>1</td>\n",
       "      <td>Hello</td>\n",
       "      <td>0.865482</td>\n",
       "    </tr>\n",
       "    <tr>\n",
       "      <th>19</th>\n",
       "      <td>1008</td>\n",
       "      <td>1</td>\n",
       "      <td>Do SAP employees participate in the company's ...</td>\n",
       "      <td>0.859096</td>\n",
       "    </tr>\n",
       "  </tbody>\n",
       "</table>\n",
       "</div>"
      ],
      "text/plain": [
       "     AID  QID                                           QUESTION  SIMILARITY\n",
       "0   1000    1                              When was SAP founded?    1.000000\n",
       "1   1001    1             What does the acronym \"SAP\" stand for?    1.000000\n",
       "2   1002    1                  What is SAP’s vision and mission?    1.000000\n",
       "3   1003    1  What is the business outlook for the current f...    1.000000\n",
       "4   1005    1  Where can I find information about the SAP Exe...    1.000000\n",
       "5   1006    1               Why was SAP AG converted into an SE?    1.000000\n",
       "6   1007    1                   What is SAP's current headcount?    1.000000\n",
       "7   1010    1             Why is SAP focusing on sustainability?    1.000000\n",
       "8   1011    1     What is SAP Cloud for Sustainable Enterprises?    1.000000\n",
       "9   1013    1  What is the impact of SAP Sustainability solut...    1.000000\n",
       "10  1016    1                     What's it like to work at SAP?    1.000000\n",
       "11  1017    1             What employee benefits does SAP offer?    1.000000\n",
       "12  1018    1  What career development opportunities does SAP...    1.000000\n",
       "13  1019    1  What can I expect in terms of career progressi...    1.000000\n",
       "14  1022    1  Where can I receive SAP training to prepare fo...    1.000000\n",
       "15  1012    1  How do SAP Sustainability solutions help creat...    0.865482\n",
       "16  1015    1  How much can SAP Sustainability solutions redu...    0.865482\n",
       "17  1021    1           How does SAP approach work-life balance?    0.865482\n",
       "18  1023    1                                              Hello    0.865482\n",
       "19  1008    1  Do SAP employees participate in the company's ...    0.859096"
      ]
     },
     "execution_count": 7,
     "metadata": {},
     "output_type": "execute_result"
    }
   ],
   "source": [
    "user_question_embedding_str = str(user_question_embedding[0])\n",
    "sql = f'''SELECT TOP 200 \"AID\", \"QID\", \"QUESTION\", COSINE_SIMILARITY(\"QUESTION_VECTOR\", TO_REAL_VECTOR('{user_question_embedding_str}')) AS SIMILARITY\n",
    "        FROM FAQ_QUESTIONS ORDER BY \"SIMILARITY\" DESC, \"AID\", \"QID\" '''\n",
    "df_remote = conn.sql(sql)\n",
    "df_remote.head(20).collect()\n"
   ]
  },
  {
   "cell_type": "code",
   "execution_count": 8,
   "id": "0f4cc41a",
   "metadata": {},
   "outputs": [
    {
     "data": {
      "text/plain": [
       "15"
      ]
     },
     "execution_count": 8,
     "metadata": {},
     "output_type": "execute_result"
    }
   ],
   "source": [
    "top_n = max(df_remote.filter('SIMILARITY > 0.95').count(), 10)\n",
    "top_n"
   ]
  },
  {
   "cell_type": "code",
   "execution_count": 9,
   "id": "3a30ec92",
   "metadata": {},
   "outputs": [
    {
     "data": {
      "text/html": [
       "<div>\n",
       "<style scoped>\n",
       "    .dataframe tbody tr th:only-of-type {\n",
       "        vertical-align: middle;\n",
       "    }\n",
       "\n",
       "    .dataframe tbody tr th {\n",
       "        vertical-align: top;\n",
       "    }\n",
       "\n",
       "    .dataframe thead th {\n",
       "        text-align: right;\n",
       "    }\n",
       "</style>\n",
       "<table border=\"1\" class=\"dataframe\">\n",
       "  <thead>\n",
       "    <tr style=\"text-align: right;\">\n",
       "      <th></th>\n",
       "      <th>AID</th>\n",
       "      <th>QID</th>\n",
       "      <th>QUESTION</th>\n",
       "    </tr>\n",
       "  </thead>\n",
       "  <tbody>\n",
       "    <tr>\n",
       "      <th>0</th>\n",
       "      <td>1000</td>\n",
       "      <td>1</td>\n",
       "      <td>When was SAP founded?</td>\n",
       "    </tr>\n",
       "    <tr>\n",
       "      <th>1</th>\n",
       "      <td>1001</td>\n",
       "      <td>1</td>\n",
       "      <td>What does the acronym \"SAP\" stand for?</td>\n",
       "    </tr>\n",
       "    <tr>\n",
       "      <th>2</th>\n",
       "      <td>1002</td>\n",
       "      <td>1</td>\n",
       "      <td>What is SAP’s vision and mission?</td>\n",
       "    </tr>\n",
       "    <tr>\n",
       "      <th>3</th>\n",
       "      <td>1003</td>\n",
       "      <td>1</td>\n",
       "      <td>What is the business outlook for the current f...</td>\n",
       "    </tr>\n",
       "    <tr>\n",
       "      <th>4</th>\n",
       "      <td>1005</td>\n",
       "      <td>1</td>\n",
       "      <td>Where can I find information about the SAP Exe...</td>\n",
       "    </tr>\n",
       "    <tr>\n",
       "      <th>5</th>\n",
       "      <td>1006</td>\n",
       "      <td>1</td>\n",
       "      <td>Why was SAP AG converted into an SE?</td>\n",
       "    </tr>\n",
       "    <tr>\n",
       "      <th>6</th>\n",
       "      <td>1007</td>\n",
       "      <td>1</td>\n",
       "      <td>What is SAP's current headcount?</td>\n",
       "    </tr>\n",
       "    <tr>\n",
       "      <th>7</th>\n",
       "      <td>1010</td>\n",
       "      <td>1</td>\n",
       "      <td>Why is SAP focusing on sustainability?</td>\n",
       "    </tr>\n",
       "    <tr>\n",
       "      <th>8</th>\n",
       "      <td>1011</td>\n",
       "      <td>1</td>\n",
       "      <td>What is SAP Cloud for Sustainable Enterprises?</td>\n",
       "    </tr>\n",
       "    <tr>\n",
       "      <th>9</th>\n",
       "      <td>1013</td>\n",
       "      <td>1</td>\n",
       "      <td>What is the impact of SAP Sustainability solut...</td>\n",
       "    </tr>\n",
       "    <tr>\n",
       "      <th>10</th>\n",
       "      <td>1016</td>\n",
       "      <td>1</td>\n",
       "      <td>What's it like to work at SAP?</td>\n",
       "    </tr>\n",
       "    <tr>\n",
       "      <th>11</th>\n",
       "      <td>1017</td>\n",
       "      <td>1</td>\n",
       "      <td>What employee benefits does SAP offer?</td>\n",
       "    </tr>\n",
       "    <tr>\n",
       "      <th>12</th>\n",
       "      <td>1018</td>\n",
       "      <td>1</td>\n",
       "      <td>What career development opportunities does SAP...</td>\n",
       "    </tr>\n",
       "    <tr>\n",
       "      <th>13</th>\n",
       "      <td>1019</td>\n",
       "      <td>1</td>\n",
       "      <td>What can I expect in terms of career progressi...</td>\n",
       "    </tr>\n",
       "    <tr>\n",
       "      <th>14</th>\n",
       "      <td>1022</td>\n",
       "      <td>1</td>\n",
       "      <td>Where can I receive SAP training to prepare fo...</td>\n",
       "    </tr>\n",
       "  </tbody>\n",
       "</table>\n",
       "</div>"
      ],
      "text/plain": [
       "     AID  QID                                           QUESTION\n",
       "0   1000    1                              When was SAP founded?\n",
       "1   1001    1             What does the acronym \"SAP\" stand for?\n",
       "2   1002    1                  What is SAP’s vision and mission?\n",
       "3   1003    1  What is the business outlook for the current f...\n",
       "4   1005    1  Where can I find information about the SAP Exe...\n",
       "5   1006    1               Why was SAP AG converted into an SE?\n",
       "6   1007    1                   What is SAP's current headcount?\n",
       "7   1010    1             Why is SAP focusing on sustainability?\n",
       "8   1011    1     What is SAP Cloud for Sustainable Enterprises?\n",
       "9   1013    1  What is the impact of SAP Sustainability solut...\n",
       "10  1016    1                     What's it like to work at SAP?\n",
       "11  1017    1             What employee benefits does SAP offer?\n",
       "12  1018    1  What career development opportunities does SAP...\n",
       "13  1019    1  What can I expect in terms of career progressi...\n",
       "14  1022    1  Where can I receive SAP training to prepare fo..."
      ]
     },
     "execution_count": 9,
     "metadata": {},
     "output_type": "execute_result"
    }
   ],
   "source": [
    "df_data = df_remote.head(top_n).select('AID', 'QID', 'QUESTION').collect()\n",
    "df_data"
   ]
  },
  {
   "cell_type": "code",
   "execution_count": 10,
   "id": "b07f685b",
   "metadata": {},
   "outputs": [
    {
     "data": {
      "text/html": [
       "<div>\n",
       "<style scoped>\n",
       "    .dataframe tbody tr th:only-of-type {\n",
       "        vertical-align: middle;\n",
       "    }\n",
       "\n",
       "    .dataframe tbody tr th {\n",
       "        vertical-align: top;\n",
       "    }\n",
       "\n",
       "    .dataframe thead th {\n",
       "        text-align: right;\n",
       "    }\n",
       "</style>\n",
       "<table border=\"1\" class=\"dataframe\">\n",
       "  <thead>\n",
       "    <tr style=\"text-align: right;\">\n",
       "      <th></th>\n",
       "      <th>ROWID</th>\n",
       "      <th>QUESTION</th>\n",
       "    </tr>\n",
       "  </thead>\n",
       "  <tbody>\n",
       "    <tr>\n",
       "      <th>0</th>\n",
       "      <td>1000-1:</td>\n",
       "      <td>When was SAP founded?</td>\n",
       "    </tr>\n",
       "    <tr>\n",
       "      <th>1</th>\n",
       "      <td>1001-1:</td>\n",
       "      <td>What does the acronym \"SAP\" stand for?</td>\n",
       "    </tr>\n",
       "    <tr>\n",
       "      <th>2</th>\n",
       "      <td>1002-1:</td>\n",
       "      <td>What is SAP’s vision and mission?</td>\n",
       "    </tr>\n",
       "    <tr>\n",
       "      <th>3</th>\n",
       "      <td>1003-1:</td>\n",
       "      <td>What is the business outlook for the current f...</td>\n",
       "    </tr>\n",
       "    <tr>\n",
       "      <th>4</th>\n",
       "      <td>1005-1:</td>\n",
       "      <td>Where can I find information about the SAP Exe...</td>\n",
       "    </tr>\n",
       "    <tr>\n",
       "      <th>5</th>\n",
       "      <td>1006-1:</td>\n",
       "      <td>Why was SAP AG converted into an SE?</td>\n",
       "    </tr>\n",
       "    <tr>\n",
       "      <th>6</th>\n",
       "      <td>1007-1:</td>\n",
       "      <td>What is SAP's current headcount?</td>\n",
       "    </tr>\n",
       "    <tr>\n",
       "      <th>7</th>\n",
       "      <td>1010-1:</td>\n",
       "      <td>Why is SAP focusing on sustainability?</td>\n",
       "    </tr>\n",
       "    <tr>\n",
       "      <th>8</th>\n",
       "      <td>1011-1:</td>\n",
       "      <td>What is SAP Cloud for Sustainable Enterprises?</td>\n",
       "    </tr>\n",
       "    <tr>\n",
       "      <th>9</th>\n",
       "      <td>1013-1:</td>\n",
       "      <td>What is the impact of SAP Sustainability solut...</td>\n",
       "    </tr>\n",
       "    <tr>\n",
       "      <th>10</th>\n",
       "      <td>1016-1:</td>\n",
       "      <td>What's it like to work at SAP?</td>\n",
       "    </tr>\n",
       "    <tr>\n",
       "      <th>11</th>\n",
       "      <td>1017-1:</td>\n",
       "      <td>What employee benefits does SAP offer?</td>\n",
       "    </tr>\n",
       "    <tr>\n",
       "      <th>12</th>\n",
       "      <td>1018-1:</td>\n",
       "      <td>What career development opportunities does SAP...</td>\n",
       "    </tr>\n",
       "    <tr>\n",
       "      <th>13</th>\n",
       "      <td>1019-1:</td>\n",
       "      <td>What can I expect in terms of career progressi...</td>\n",
       "    </tr>\n",
       "    <tr>\n",
       "      <th>14</th>\n",
       "      <td>1022-1:</td>\n",
       "      <td>Where can I receive SAP training to prepare fo...</td>\n",
       "    </tr>\n",
       "  </tbody>\n",
       "</table>\n",
       "</div>"
      ],
      "text/plain": [
       "       ROWID                                           QUESTION\n",
       "0   1000-1:                               When was SAP founded?\n",
       "1   1001-1:              What does the acronym \"SAP\" stand for?\n",
       "2   1002-1:                   What is SAP’s vision and mission?\n",
       "3   1003-1:   What is the business outlook for the current f...\n",
       "4   1005-1:   Where can I find information about the SAP Exe...\n",
       "5   1006-1:                Why was SAP AG converted into an SE?\n",
       "6   1007-1:                    What is SAP's current headcount?\n",
       "7   1010-1:              Why is SAP focusing on sustainability?\n",
       "8   1011-1:      What is SAP Cloud for Sustainable Enterprises?\n",
       "9   1013-1:   What is the impact of SAP Sustainability solut...\n",
       "10  1016-1:                      What's it like to work at SAP?\n",
       "11  1017-1:              What employee benefits does SAP offer?\n",
       "12  1018-1:   What career development opportunities does SAP...\n",
       "13  1019-1:   What can I expect in terms of career progressi...\n",
       "14  1022-1:   Where can I receive SAP training to prepare fo..."
      ]
     },
     "execution_count": 10,
     "metadata": {},
     "output_type": "execute_result"
    }
   ],
   "source": [
    "df_data['ROWID'] = df_data['AID'].astype(str) + '-' + df_data['QID'].astype(str) + ': '\n",
    "df_data = df_data[['ROWID', 'QUESTION']]\n",
    "df_data"
   ]
  },
  {
   "cell_type": "code",
   "execution_count": 11,
   "id": "c1d77814",
   "metadata": {},
   "outputs": [
    {
     "name": "stdout",
     "output_type": "stream",
     "text": [
      "1000-1:                                                                 When was SAP founded?\n",
      "1001-1:                                                What does the acronym \"SAP\" stand for?\n",
      "1002-1:                                                     What is SAP’s vision and mission?\n",
      "1003-1:  What is the business outlook for the current fiscal year and your mid-term ambition?\n",
      "1005-1:                           Where can I find information about the SAP Executive Board?\n",
      "1006-1:                                                  Why was SAP AG converted into an SE?\n",
      "1007-1:                                                      What is SAP's current headcount?\n",
      "1010-1:                                                Why is SAP focusing on sustainability?\n",
      "1011-1:                                        What is SAP Cloud for Sustainable Enterprises?\n",
      "1013-1:                                   What is the impact of SAP Sustainability solutions?\n",
      "1016-1:                                                        What's it like to work at SAP?\n",
      "1017-1:                                                What employee benefits does SAP offer?\n",
      "1018-1:                                 What career development opportunities does SAP offer?\n",
      "1019-1:                              What can I expect in terms of career progression at SAP?\n",
      "1022-1:                    Where can I receive SAP training to prepare for a career with SAP?\n"
     ]
    }
   ],
   "source": [
    "candiates_str = df_data.to_string(header=False,\n",
    "                                  index=False,\n",
    "                                  index_names=False)\n",
    "print(candiates_str)"
   ]
  },
  {
   "cell_type": "code",
   "execution_count": 12,
   "id": "956d0c5d",
   "metadata": {},
   "outputs": [],
   "source": [
    "AI_CORE_MODEL_NAME  = 'gpt-4-32k'\n"
   ]
  },
  {
   "cell_type": "code",
   "execution_count": 13,
   "id": "7fc78f6c",
   "metadata": {},
   "outputs": [
    {
     "name": "stdout",
     "output_type": "stream",
     "text": [
      "\n",
      "Task: which of the following candidate questions is closest to this one?\n",
      "What is the meaning of the letters SAP?\n",
      "Only return the ID of the selected question, not the question itself\n",
      "\n",
      "-----------------------------------\n",
      "\n",
      "Candidate questions. Each question starts with the ID, followed by a :, followed by the question\n",
      "1000-1:                                                                 When was SAP founded?\n",
      "1001-1:                                                What does the acronym \"SAP\" stand for?\n",
      "1002-1:                                                     What is SAP’s vision and mission?\n",
      "1003-1:  What is the business outlook for the current fiscal year and your mid-term ambition?\n",
      "1005-1:                           Where can I find information about the SAP Executive Board?\n",
      "1006-1:                                                  Why was SAP AG converted into an SE?\n",
      "1007-1:                                                      What is SAP's current headcount?\n",
      "1010-1:                                                Why is SAP focusing on sustainability?\n",
      "1011-1:                                        What is SAP Cloud for Sustainable Enterprises?\n",
      "1013-1:                                   What is the impact of SAP Sustainability solutions?\n",
      "1016-1:                                                        What's it like to work at SAP?\n",
      "1017-1:                                                What employee benefits does SAP offer?\n",
      "1018-1:                                 What career development opportunities does SAP offer?\n",
      "1019-1:                              What can I expect in terms of career progression at SAP?\n",
      "1022-1:                    Where can I receive SAP training to prepare for a career with SAP?\n",
      "\n"
     ]
    }
   ],
   "source": [
    "llm_prompt = f'''\n",
    "Task: which of the following candidate questions is closest to this one?\n",
    "{user_question}\n",
    "Only return the ID of the selected question, not the question itself\n",
    "\n",
    "-----------------------------------\n",
    "\n",
    "Candidate questions. Each question starts with the ID, followed by a :, followed by the question\n",
    "{candiates_str}\n",
    "'''\n",
    "print(llm_prompt)"
   ]
  },
  {
   "cell_type": "code",
   "execution_count": 14,
   "id": "b7972436",
   "metadata": {},
   "outputs": [
    {
     "name": "stdout",
     "output_type": "stream",
     "text": [
      "ChatCompletion(id='chatcmpl-9CTtvcOzaLto5mZaawMcCMMzYznme', choices=[Choice(finish_reason='stop', index=0, logprobs=None, message=ChatCompletionMessage(content='1001-1', role='assistant', function_call=None, tool_calls=None), content_filter_results={'hate': {'filtered': False, 'severity': 'safe'}, 'self_harm': {'filtered': False, 'severity': 'safe'}, 'sexual': {'filtered': False, 'severity': 'safe'}, 'violence': {'filtered': False, 'severity': 'safe'}})], created=1712761903, model='gpt-4-32k', object='chat.completion', system_fingerprint=None, usage=CompletionUsage(completion_tokens=4, prompt_tokens=298, total_tokens=302), prompt_filter_results=[{'content_filter_results': {'hate': {'filtered': False, 'severity': 'safe'}, 'jailbreak': {'detected': False, 'filtered': False}, 'self_harm': {'filtered': False, 'severity': 'safe'}, 'sexual': {'filtered': False, 'severity': 'safe'}, 'violence': {'filtered': False, 'severity': 'safe'}}, 'prompt_index': 0}])\n"
     ]
    }
   ],
   "source": [
    "from gen_ai_hub.proxy.native.openai import chat\n",
    "messages = [{\"role\": \"system\", \"content\": llm_prompt}\n",
    "           ]\n",
    "kwargs = dict(model_name=AI_CORE_MODEL_NAME, messages=messages)\n",
    "response = chat.completions.create(**kwargs)\n",
    "print(response)"
   ]
  },
  {
   "cell_type": "code",
   "execution_count": 15,
   "id": "d50564d9",
   "metadata": {},
   "outputs": [
    {
     "data": {
      "text/plain": [
       "'1001-1'"
      ]
     },
     "execution_count": 15,
     "metadata": {},
     "output_type": "execute_result"
    }
   ],
   "source": [
    "llm_response = response.choices[0].message.content\n",
    "llm_response"
   ]
  },
  {
   "cell_type": "code",
   "execution_count": 16,
   "id": "89141d16",
   "metadata": {},
   "outputs": [
    {
     "data": {
      "text/plain": [
       "'\"SAP\" stands for Systems, Applications, and Products in Data Processing.'"
      ]
     },
     "execution_count": 16,
     "metadata": {},
     "output_type": "execute_result"
    }
   ],
   "source": [
    "aid = qid = None\n",
    "if len(llm_response.split('-')) == 2:\n",
    "   aid, qid = llm_response.split('-')\n",
    "\n",
    "   # From HANA Cloud get the question from the FAQ that matches the user request best\n",
    "   df_remote = conn.table('FAQ_QUESTIONS').filter(f''' \"AID\" = '{aid}' AND \"QID\" = '{qid}' ''').select('QUESTION')\n",
    "   matching_question = df_remote.head(5).collect().iloc[0,0]\n",
    "    \n",
    "   # From HANA Cloud get the predefined answer of the above question from the FAQ\n",
    "   df_remote = conn.table('FAQ_ANSWERS').filter(f''' \"AID\" = '{aid}' ''').select('ANSWER')\n",
    "   matching_answer = df_remote.head(5).collect().iloc[0,0]\n",
    "else:\n",
    "   matching_answer = \"I don't seem to have an answer for that.\"\n",
    "matching_answer"
   ]
  },
  {
   "cell_type": "code",
   "execution_count": 17,
   "id": "aba547bf",
   "metadata": {},
   "outputs": [
    {
     "name": "stdout",
     "output_type": "stream",
     "text": [
      "The user question was: What is the meaning of the letters SAP?\n",
      "The selected questoin from the FAQ is: What does the acronym \"SAP\" stand for?\n",
      "With the answer: \"SAP\" stands for Systems, Applications, and Products in Data Processing.\n"
     ]
    }
   ],
   "source": [
    "print(f'The user question was: {user_question}\\nThe selected questoin from the FAQ is: {matching_question}\\nWith the answer: {matching_answer}')\n"
   ]
  },
  {
   "cell_type": "code",
   "execution_count": null,
   "id": "9e307440",
   "metadata": {},
   "outputs": [],
   "source": []
  }
 ],
 "metadata": {
  "kernelspec": {
   "display_name": "Python 3 (ipykernel)",
   "language": "python",
   "name": "python3"
  },
  "language_info": {
   "codemirror_mode": {
    "name": "ipython",
    "version": 3
   },
   "file_extension": ".py",
   "mimetype": "text/x-python",
   "name": "python",
   "nbconvert_exporter": "python",
   "pygments_lexer": "ipython3",
   "version": "3.10.9"
  }
 },
 "nbformat": 4,
 "nbformat_minor": 5
}
