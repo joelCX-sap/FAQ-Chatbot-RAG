{
 "cells": [
  {
   "cell_type": "code",
   "execution_count": 12,
   "id": "21551781",
   "metadata": {},
   "outputs": [],
   "source": [
    "import json\n",
    "with open('./credentials.json', 'r') as creds:\n",
    "  credentials = json.load(creds)"
   ]
  },
  {
   "cell_type": "code",
   "execution_count": 13,
   "id": "0691de81",
   "metadata": {},
   "outputs": [],
   "source": [
    "SAP_HANA_CLOUD_ADDRESS  = credentials[\"SAP_HANA_CLOUD\"][\"HANA_ADDRESS\"]\n",
    "SAP_HANA_CLOUD_PORT     = credentials[\"SAP_HANA_CLOUD\"][\"HANA_PORT\"]\n",
    "SAP_HANA_CLOUD_USER     = credentials[\"SAP_HANA_CLOUD\"][\"HANA_USER\"]\n",
    "SAP_HANA_CLOUD_PASSWORD = credentials[\"SAP_HANA_CLOUD\"][\"HANA_PASSWORD\"]"
   ]
  },
  {
   "cell_type": "code",
   "execution_count": 14,
   "id": "e185763f",
   "metadata": {},
   "outputs": [],
   "source": [
    "import os\n",
    "os.environ[\"AICORE_CLIENT_ID\"]      = credentials[\"SAP_AI_CORE\"][\"AICORE_CLIENT_ID\"]\n",
    "os.environ[\"AICORE_CLIENT_SECRET\"]  = credentials[\"SAP_AI_CORE\"][\"AICORE_CLIENT_SECRET\"]\n",
    "os.environ[\"AICORE_AUTH_URL\"]       = credentials[\"SAP_AI_CORE\"][\"AICORE_AUTH_URL\"]\n",
    "os.environ[\"AICORE_RESOURCE_GROUP\"] = credentials[\"SAP_AI_CORE\"][\"AICORE_RESOURCE_GROUP\"]\n",
    "os.environ[\"AICORE_BASE_URL\"]       = credentials[\"SAP_AI_CORE\"][\"AICORE_BASE_URL\"]   "
   ]
  },
  {
   "cell_type": "code",
   "execution_count": 15,
   "id": "e38ccafd",
   "metadata": {},
   "outputs": [
    {
     "data": {
      "text/plain": [
       "True"
      ]
     },
     "execution_count": 15,
     "metadata": {},
     "output_type": "execute_result"
    }
   ],
   "source": [
    "import hana_ml.dataframe as dataframe\n",
    "conn = dataframe.ConnectionContext(\n",
    "                                   address  = SAP_HANA_CLOUD_ADDRESS,\n",
    "                                   port     = SAP_HANA_CLOUD_PORT,\n",
    "                                   user     = SAP_HANA_CLOUD_USER,\n",
    "                                   password = SAP_HANA_CLOUD_PASSWORD, \n",
    "                                  )\n",
    "conn.connection.isconnected()"
   ]
  },
  {
   "cell_type": "code",
   "execution_count": 16,
   "id": "d1ae612e",
   "metadata": {},
   "outputs": [],
   "source": [
    "df_remote_toprocess = conn.sql('''SELECT \"AID\", \"QID\", \"QUESTION\" FROM FAQ_QUESTIONS WHERE QUESTION_VECTOR IS NULL ORDER BY \"AID\", \"QID\" ''')\n"
   ]
  },
  {
   "cell_type": "code",
   "execution_count": 17,
   "id": "d66f7627",
   "metadata": {},
   "outputs": [
    {
     "data": {
      "text/html": [
       "<div>\n",
       "<style scoped>\n",
       "    .dataframe tbody tr th:only-of-type {\n",
       "        vertical-align: middle;\n",
       "    }\n",
       "\n",
       "    .dataframe tbody tr th {\n",
       "        vertical-align: top;\n",
       "    }\n",
       "\n",
       "    .dataframe thead th {\n",
       "        text-align: right;\n",
       "    }\n",
       "</style>\n",
       "<table border=\"1\" class=\"dataframe\">\n",
       "  <thead>\n",
       "    <tr style=\"text-align: right;\">\n",
       "      <th></th>\n",
       "      <th>AID</th>\n",
       "      <th>QID</th>\n",
       "      <th>QUESTION</th>\n",
       "    </tr>\n",
       "  </thead>\n",
       "  <tbody>\n",
       "  </tbody>\n",
       "</table>\n",
       "</div>"
      ],
      "text/plain": [
       "Empty DataFrame\n",
       "Columns: [AID, QID, QUESTION]\n",
       "Index: []"
      ]
     },
     "execution_count": 17,
     "metadata": {},
     "output_type": "execute_result"
    }
   ],
   "source": [
    "df_remote_toprocess.head(5).collect()\n"
   ]
  },
  {
   "cell_type": "code",
   "execution_count": 18,
   "id": "63fc62ea",
   "metadata": {},
   "outputs": [
    {
     "data": {
      "text/plain": [
       "0"
      ]
     },
     "execution_count": 18,
     "metadata": {},
     "output_type": "execute_result"
    }
   ],
   "source": [
    "df_remote_toprocess.count()\n"
   ]
  },
  {
   "cell_type": "code",
   "execution_count": 19,
   "id": "e8740cd5",
   "metadata": {},
   "outputs": [],
   "source": [
    "from gen_ai_hub.proxy.langchain.openai import OpenAIEmbeddings\n",
    "embedding = OpenAIEmbeddings(proxy_model_name='text-embedding-ada-002')"
   ]
  },
  {
   "cell_type": "code",
   "execution_count": 20,
   "id": "935e96b3",
   "metadata": {},
   "outputs": [],
   "source": [
    "dbapi_cursor = conn.connection.cursor()\n",
    "rowids_toprocess = df_remote_toprocess.select(\"AID\", \"QID\", \"QUESTION\").collect()\n",
    "for index, row_toprocess in rowids_toprocess.iterrows(): \n",
    "    my_embedding = embedding.embed_documents(row_toprocess['QUESTION']) \n",
    "    my_embedding_str = str(my_embedding[0])\n",
    "    my_aid = row_toprocess['AID']\n",
    "    my_qid = row_toprocess['QID']\n",
    "    print(str(my_aid) + '-' + str(my_qid) + ': ' + str(my_embedding_str[:100]))\n",
    "    dbapi_cursor.execute(f\"\"\"UPDATE \"FAQ_QUESTIONS\" SET \"QUESTION_VECTOR\" = TO_REAL_VECTOR('{my_embedding_str}') \n",
    "                             WHERE \"AID\" = {my_aid} AND \"QID\" = {my_qid};\"\"\")  "
   ]
  },
  {
   "cell_type": "code",
   "execution_count": 21,
   "id": "4cb7f57c",
   "metadata": {},
   "outputs": [
    {
     "data": {
      "text/html": [
       "<div>\n",
       "<style scoped>\n",
       "    .dataframe tbody tr th:only-of-type {\n",
       "        vertical-align: middle;\n",
       "    }\n",
       "\n",
       "    .dataframe tbody tr th {\n",
       "        vertical-align: top;\n",
       "    }\n",
       "\n",
       "    .dataframe thead th {\n",
       "        text-align: right;\n",
       "    }\n",
       "</style>\n",
       "<table border=\"1\" class=\"dataframe\">\n",
       "  <thead>\n",
       "    <tr style=\"text-align: right;\">\n",
       "      <th></th>\n",
       "      <th>AID</th>\n",
       "      <th>QID</th>\n",
       "      <th>QUESTION</th>\n",
       "      <th>QUESTION_VECTOR</th>\n",
       "    </tr>\n",
       "  </thead>\n",
       "  <tbody>\n",
       "    <tr>\n",
       "      <th>0</th>\n",
       "      <td>1000</td>\n",
       "      <td>1</td>\n",
       "      <td>When was SAP founded?</td>\n",
       "      <td>[0, 6, 0, 0, 181, 99, 141, 60, 145, 136, 143, ...</td>\n",
       "    </tr>\n",
       "    <tr>\n",
       "      <th>1</th>\n",
       "      <td>1001</td>\n",
       "      <td>1</td>\n",
       "      <td>What does the acronym \"SAP\" stand for?</td>\n",
       "      <td>[0, 6, 0, 0, 181, 99, 141, 60, 145, 136, 143, ...</td>\n",
       "    </tr>\n",
       "    <tr>\n",
       "      <th>2</th>\n",
       "      <td>1002</td>\n",
       "      <td>1</td>\n",
       "      <td>What is SAP’s vision and mission?</td>\n",
       "      <td>[0, 6, 0, 0, 181, 99, 141, 60, 145, 136, 143, ...</td>\n",
       "    </tr>\n",
       "    <tr>\n",
       "      <th>3</th>\n",
       "      <td>1003</td>\n",
       "      <td>1</td>\n",
       "      <td>What is the business outlook for the current f...</td>\n",
       "      <td>[0, 6, 0, 0, 181, 99, 141, 60, 145, 136, 143, ...</td>\n",
       "    </tr>\n",
       "    <tr>\n",
       "      <th>4</th>\n",
       "      <td>1004</td>\n",
       "      <td>1</td>\n",
       "      <td>Are you planning to grow organically or throug...</td>\n",
       "      <td>[0, 6, 0, 0, 44, 114, 124, 60, 54, 164, 97, 18...</td>\n",
       "    </tr>\n",
       "  </tbody>\n",
       "</table>\n",
       "</div>"
      ],
      "text/plain": [
       "    AID  QID                                           QUESTION  \\\n",
       "0  1000    1                              When was SAP founded?   \n",
       "1  1001    1             What does the acronym \"SAP\" stand for?   \n",
       "2  1002    1                  What is SAP’s vision and mission?   \n",
       "3  1003    1  What is the business outlook for the current f...   \n",
       "4  1004    1  Are you planning to grow organically or throug...   \n",
       "\n",
       "                                     QUESTION_VECTOR  \n",
       "0  [0, 6, 0, 0, 181, 99, 141, 60, 145, 136, 143, ...  \n",
       "1  [0, 6, 0, 0, 181, 99, 141, 60, 145, 136, 143, ...  \n",
       "2  [0, 6, 0, 0, 181, 99, 141, 60, 145, 136, 143, ...  \n",
       "3  [0, 6, 0, 0, 181, 99, 141, 60, 145, 136, 143, ...  \n",
       "4  [0, 6, 0, 0, 44, 114, 124, 60, 54, 164, 97, 18...  "
      ]
     },
     "execution_count": 21,
     "metadata": {},
     "output_type": "execute_result"
    }
   ],
   "source": [
    "df_remote = conn.table('FAQ_QUESTIONS').sort(['AID', 'QID'])\n",
    "df_remote.head(5).collect()"
   ]
  },
  {
   "cell_type": "code",
   "execution_count": null,
   "id": "939a2c6b",
   "metadata": {},
   "outputs": [],
   "source": []
  }
 ],
 "metadata": {
  "kernelspec": {
   "display_name": "Python 3 (ipykernel)",
   "language": "python",
   "name": "python3"
  },
  "language_info": {
   "codemirror_mode": {
    "name": "ipython",
    "version": 3
   },
   "file_extension": ".py",
   "mimetype": "text/x-python",
   "name": "python",
   "nbconvert_exporter": "python",
   "pygments_lexer": "ipython3",
   "version": "3.10.9"
  }
 },
 "nbformat": 4,
 "nbformat_minor": 5
}
